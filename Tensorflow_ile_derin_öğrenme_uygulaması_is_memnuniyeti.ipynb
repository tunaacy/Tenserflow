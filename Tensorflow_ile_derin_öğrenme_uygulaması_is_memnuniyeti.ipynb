{
  "nbformat": 4,
  "nbformat_minor": 0,
  "metadata": {
    "colab": {
      "provenance": [],
      "include_colab_link": true
    },
    "kernelspec": {
      "name": "python3",
      "display_name": "Python 3"
    },
    "language_info": {
      "name": "python"
    }
  },
  "cells": [
    {
      "cell_type": "markdown",
      "metadata": {
        "id": "view-in-github",
        "colab_type": "text"
      },
      "source": [
        "<a href=\"https://colab.research.google.com/github/MusaOzlu057/tenserflow/blob/main/Tensorflow_ile_derin_%C3%B6%C4%9Frenme_uygulamas%C4%B1_is_memnuniyeti.ipynb\" target=\"_parent\"><img src=\"https://colab.research.google.com/assets/colab-badge.svg\" alt=\"Open In Colab\"/></a>"
      ]
    },
    {
      "cell_type": "code",
      "execution_count": null,
      "metadata": {
        "id": "o6N7GgBoQz-l"
      },
      "outputs": [],
      "source": [
        "import pandas as pd\n",
        "from sklearn.model_selection import train_test_split"
      ]
    },
    {
      "cell_type": "code",
      "source": [
        "df = pd.read_csv('is_memnuniyeti_2.csv')"
      ],
      "metadata": {
        "id": "B75xzib4ROvQ"
      },
      "execution_count": null,
      "outputs": []
    },
    {
      "cell_type": "code",
      "source": [
        "df"
      ],
      "metadata": {
        "id": "afNR6x5Ls9Xk"
      },
      "execution_count": null,
      "outputs": []
    },
    {
      "cell_type": "code",
      "source": [
        "X = pd.get_dummies(df.drop(['left'], axis=1))\n",
        "y = df['left'].apply(lambda x: 1 if x==1 else 0)"
      ],
      "metadata": {
        "id": "XLwerhUFRUQA"
      },
      "execution_count": null,
      "outputs": []
    },
    {
      "cell_type": "code",
      "source": [
        "X_train, X_test, y_train, y_test = train_test_split(X, y, test_size=.2)"
      ],
      "metadata": {
        "id": "7VrTSnH4Szso"
      },
      "execution_count": null,
      "outputs": []
    },
    {
      "cell_type": "code",
      "source": [
        "X_train.head()"
      ],
      "metadata": {
        "id": "9OKDAj8H2CHa"
      },
      "execution_count": null,
      "outputs": []
    },
    {
      "cell_type": "code",
      "source": [
        "y_train.head()"
      ],
      "metadata": {
        "id": "IHuQVOy-S4YW"
      },
      "execution_count": null,
      "outputs": []
    },
    {
      "cell_type": "code",
      "source": [
        "from tensorflow.keras.models import Sequential, load_model\n",
        "from tensorflow.keras.layers import Dense\n",
        "from sklearn.metrics import accuracy_score"
      ],
      "metadata": {
        "id": "YGbkSN9nS-in"
      },
      "execution_count": null,
      "outputs": []
    },
    {
      "cell_type": "code",
      "source": [
        "model = Sequential()\n",
        "model.add(Dense(units=32, activation='relu', input_dim=len(X_train.columns)))\n",
        "model.add(Dense(units=64, activation='relu'))\n",
        "model.add(Dense(units=1, activation='sigmoid'))"
      ],
      "metadata": {
        "id": "CAyPcuK7TDSG"
      },
      "execution_count": null,
      "outputs": []
    },
    {
      "cell_type": "code",
      "source": [
        "model.compile(loss='binary_crossentropy', optimizer='sgd', metrics='accuracy')"
      ],
      "metadata": {
        "id": "ERNOrrb0TO9u"
      },
      "execution_count": null,
      "outputs": []
    },
    {
      "cell_type": "code",
      "source": [
        "model.fit(X_train, y_train, epochs=200, batch_size=32)"
      ],
      "metadata": {
        "id": "LU1FIotxTQXA"
      },
      "execution_count": null,
      "outputs": []
    },
    {
      "cell_type": "code",
      "source": [
        "y_sonuc = model.predict(X_test)\n",
        "y_sonuc = [0 if val < 0.5 else 1 for val in y_sonuc]"
      ],
      "metadata": {
        "id": "wk0L81hmULcR",
        "colab": {
          "base_uri": "https://localhost:8080/"
        },
        "outputId": "b28cbada-e498-4126-83ff-d394525f0f52"
      },
      "execution_count": null,
      "outputs": [
        {
          "output_type": "stream",
          "name": "stdout",
          "text": [
            "94/94 [==============================] - 0s 3ms/step\n"
          ]
        }
      ]
    },
    {
      "cell_type": "code",
      "source": [
        "y_sonuc"
      ],
      "metadata": {
        "id": "lHcUMF7gUV03"
      },
      "execution_count": null,
      "outputs": []
    },
    {
      "cell_type": "code",
      "source": [
        "accuracy_score(y_test, y_sonuc)"
      ],
      "metadata": {
        "id": "n18K1cafUcMW",
        "colab": {
          "base_uri": "https://localhost:8080/"
        },
        "outputId": "5a546b66-e5bf-4117-8273-13450c6d2ed3"
      },
      "execution_count": null,
      "outputs": [
        {
          "output_type": "execute_result",
          "data": {
            "text/plain": [
              "0.8696666666666667"
            ]
          },
          "metadata": {},
          "execution_count": 30
        }
      ]
    },
    {
      "cell_type": "code",
      "source": [
        "X_test"
      ],
      "metadata": {
        "id": "e7UJ9Jqhcynp"
      },
      "execution_count": null,
      "outputs": []
    },
    {
      "cell_type": "code",
      "source": [
        "deneme = pd.read_excel('deneme.xlsx')"
      ],
      "metadata": {
        "id": "k9mHPrhreO4N"
      },
      "execution_count": null,
      "outputs": []
    },
    {
      "cell_type": "code",
      "source": [
        "deneme_sonuc = model.predict(deneme)"
      ],
      "metadata": {
        "id": "5qbhY2xGhN39",
        "colab": {
          "base_uri": "https://localhost:8080/"
        },
        "outputId": "ba5bc734-7267-4d51-f08b-447271c721ba"
      },
      "execution_count": null,
      "outputs": [
        {
          "output_type": "stream",
          "name": "stdout",
          "text": [
            "1/1 [==============================] - 0s 21ms/step\n"
          ]
        }
      ]
    },
    {
      "cell_type": "code",
      "source": [
        "deneme_sonuc"
      ],
      "metadata": {
        "id": "nWsTu6_UhTTf",
        "outputId": "79ee036f-802e-4edf-f33e-745d30c246b4",
        "colab": {
          "base_uri": "https://localhost:8080/"
        }
      },
      "execution_count": null,
      "outputs": [
        {
          "output_type": "execute_result",
          "data": {
            "text/plain": [
              "array([[0.17302352],\n",
              "       [0.6591289 ],\n",
              "       [0.41964173]], dtype=float32)"
            ]
          },
          "metadata": {},
          "execution_count": 33
        }
      ]
    },
    {
      "cell_type": "code",
      "source": [
        "deneme_sonuc = [0 if val < 0.5 else 1 for val in deneme_sonuc]\n",
        "deneme_sonuc"
      ],
      "metadata": {
        "id": "ctl3Q8cxlQBr",
        "colab": {
          "base_uri": "https://localhost:8080/"
        },
        "outputId": "2a9d4d88-f7eb-41c1-8de2-92ecfa8a2e6c"
      },
      "execution_count": null,
      "outputs": [
        {
          "output_type": "execute_result",
          "data": {
            "text/plain": [
              "[0, 1, 0]"
            ]
          },
          "metadata": {},
          "execution_count": 34
        }
      ]
    },
    {
      "cell_type": "code",
      "source": [
        "model.save('tfmodel')"
      ],
      "metadata": {
        "id": "uugBW8BmUkLe"
      },
      "execution_count": null,
      "outputs": []
    },
    {
      "cell_type": "code",
      "source": [
        "del model"
      ],
      "metadata": {
        "id": "3Z94No4VUzsY"
      },
      "execution_count": null,
      "outputs": []
    },
    {
      "cell_type": "code",
      "source": [
        "model = load_model('tfmodel')"
      ],
      "metadata": {
        "id": "T0vBvm-jU6-W"
      },
      "execution_count": null,
      "outputs": []
    }
  ]
}