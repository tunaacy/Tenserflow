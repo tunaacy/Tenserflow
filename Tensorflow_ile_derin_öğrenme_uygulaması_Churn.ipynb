{
  "nbformat": 4,
  "nbformat_minor": 0,
  "metadata": {
    "colab": {
      "provenance": [],
      "include_colab_link": true
    },
    "kernelspec": {
      "name": "python3",
      "display_name": "Python 3"
    },
    "language_info": {
      "name": "python"
    }
  },
  "cells": [
    {
      "cell_type": "markdown",
      "metadata": {
        "id": "view-in-github",
        "colab_type": "text"
      },
      "source": [
        "<a href=\"https://colab.research.google.com/github/MusaOzlu057/tenserflow/blob/main/Tensorflow_ile_derin_%C3%B6%C4%9Frenme_uygulamas%C4%B1_Churn.ipynb\" target=\"_parent\"><img src=\"https://colab.research.google.com/assets/colab-badge.svg\" alt=\"Open In Colab\"/></a>"
      ]
    },
    {
      "cell_type": "code",
      "execution_count": null,
      "metadata": {
        "id": "o6N7GgBoQz-l"
      },
      "outputs": [],
      "source": [
        "import pandas as pd\n",
        "from sklearn.model_selection import train_test_split"
      ]
    },
    {
      "cell_type": "code",
      "source": [
        "df = pd.read_csv('Churn.csv')"
      ],
      "metadata": {
        "id": "B75xzib4ROvQ"
      },
      "execution_count": null,
      "outputs": []
    },
    {
      "cell_type": "code",
      "source": [
        "df"
      ],
      "metadata": {
        "id": "JHPKVw5JInUU"
      },
      "execution_count": null,
      "outputs": []
    },
    {
      "cell_type": "code",
      "source": [
        "X = pd.get_dummies(df.drop(['Churn', 'Customer ID', 'Monthly Charges', 'Total Charges'], axis=1))\n",
        "y = df['Churn'].apply(lambda x: 1 if x=='Yes' else 0)"
      ],
      "metadata": {
        "id": "XLwerhUFRUQA"
      },
      "execution_count": null,
      "outputs": []
    },
    {
      "cell_type": "code",
      "source": [
        "X_train, X_test, y_train, y_test = train_test_split(X, y, test_size=.2)"
      ],
      "metadata": {
        "id": "7VrTSnH4Szso"
      },
      "execution_count": null,
      "outputs": []
    },
    {
      "cell_type": "code",
      "source": [
        "X_train.head()"
      ],
      "metadata": {
        "id": "KgdtYtCq0cTU"
      },
      "execution_count": null,
      "outputs": []
    },
    {
      "cell_type": "code",
      "source": [
        "y_train.head()"
      ],
      "metadata": {
        "id": "IHuQVOy-S4YW"
      },
      "execution_count": null,
      "outputs": []
    },
    {
      "cell_type": "code",
      "source": [
        "from tensorflow.keras.models import Sequential, load_model\n",
        "from tensorflow.keras.layers import Dense\n",
        "from sklearn.metrics import accuracy_score"
      ],
      "metadata": {
        "id": "YGbkSN9nS-in"
      },
      "execution_count": null,
      "outputs": []
    },
    {
      "cell_type": "code",
      "source": [
        "model = Sequential()\n",
        "model.add(Dense(units=32, activation='relu', input_dim=len(X_train.columns)))\n",
        "model.add(Dense(units=64, activation='relu'))\n",
        "model.add(Dense(units=1, activation='sigmoid'))"
      ],
      "metadata": {
        "id": "CAyPcuK7TDSG"
      },
      "execution_count": null,
      "outputs": []
    },
    {
      "cell_type": "code",
      "source": [
        "model.compile(loss='binary_crossentropy', optimizer='sgd', metrics='accuracy')"
      ],
      "metadata": {
        "id": "ERNOrrb0TO9u"
      },
      "execution_count": 22,
      "outputs": []
    },
    {
      "cell_type": "code",
      "source": [
        "model.fit(X_train, y_train, epochs=200, batch_size=32)"
      ],
      "metadata": {
        "id": "LU1FIotxTQXA",
        "colab": {
          "base_uri": "https://localhost:8080/"
        },
        "outputId": "579cb24f-7652-47af-b83f-c05380cfee80"
      },
      "execution_count": 23,
      "outputs": [
        {
          "output_type": "stream",
          "name": "stdout",
          "text": [
            "177/177 [==============================] - 0s 2ms/step - loss: 0.3994 - accuracy: 0.8140\n",
            "Epoch 5/200\n",
            "177/177 [==============================] - 0s 3ms/step - loss: 0.4005 - accuracy: 0.8122\n",
            "Epoch 6/200\n",
            "177/177 [==============================] - 0s 3ms/step - loss: 0.3968 - accuracy: 0.8154\n",
            "Epoch 7/200\n",
            "177/177 [==============================] - 0s 2ms/step - loss: 0.3984 - accuracy: 0.8147\n",
            "Epoch 8/200\n",
            "177/177 [==============================] - 0s 3ms/step - loss: 0.4010 - accuracy: 0.8154\n",
            "Epoch 9/200\n",
            "177/177 [==============================] - 1s 3ms/step - loss: 0.3978 - accuracy: 0.8144\n",
            "Epoch 10/200\n",
            "177/177 [==============================] - 0s 3ms/step - loss: 0.4001 - accuracy: 0.8165\n",
            "Epoch 11/200\n",
            "177/177 [==============================] - 0s 2ms/step - loss: 0.4001 - accuracy: 0.8138\n",
            "Epoch 12/200\n",
            "177/177 [==============================] - 0s 2ms/step - loss: 0.4025 - accuracy: 0.8151\n",
            "Epoch 13/200\n",
            "177/177 [==============================] - 0s 2ms/step - loss: 0.3990 - accuracy: 0.8144\n",
            "Epoch 14/200\n",
            "177/177 [==============================] - 0s 2ms/step - loss: 0.4000 - accuracy: 0.8147\n",
            "Epoch 15/200\n",
            "177/177 [==============================] - 0s 2ms/step - loss: 0.3976 - accuracy: 0.8138\n",
            "Epoch 16/200\n",
            "177/177 [==============================] - 0s 2ms/step - loss: 0.4033 - accuracy: 0.8154\n",
            "Epoch 17/200\n",
            "177/177 [==============================] - 0s 2ms/step - loss: 0.4000 - accuracy: 0.8149\n",
            "Epoch 18/200\n",
            "177/177 [==============================] - 0s 2ms/step - loss: 0.3990 - accuracy: 0.8114\n",
            "Epoch 19/200\n",
            "177/177 [==============================] - 0s 2ms/step - loss: 0.3980 - accuracy: 0.8142\n",
            "Epoch 20/200\n",
            "177/177 [==============================] - 0s 2ms/step - loss: 0.3978 - accuracy: 0.8167\n",
            "Epoch 21/200\n",
            "177/177 [==============================] - 0s 2ms/step - loss: 0.3976 - accuracy: 0.8135\n",
            "Epoch 22/200\n",
            "177/177 [==============================] - 0s 2ms/step - loss: 0.3981 - accuracy: 0.8117\n",
            "Epoch 23/200\n",
            "177/177 [==============================] - 0s 2ms/step - loss: 0.3980 - accuracy: 0.8144\n",
            "Epoch 24/200\n",
            "177/177 [==============================] - 0s 2ms/step - loss: 0.3981 - accuracy: 0.8165\n",
            "Epoch 25/200\n",
            "177/177 [==============================] - 0s 2ms/step - loss: 0.3997 - accuracy: 0.8098\n",
            "Epoch 26/200\n",
            "177/177 [==============================] - 0s 2ms/step - loss: 0.3994 - accuracy: 0.8193\n",
            "Epoch 27/200\n",
            "177/177 [==============================] - 0s 2ms/step - loss: 0.3968 - accuracy: 0.8163\n",
            "Epoch 28/200\n",
            "177/177 [==============================] - 0s 2ms/step - loss: 0.3982 - accuracy: 0.8146\n",
            "Epoch 29/200\n",
            "177/177 [==============================] - 0s 2ms/step - loss: 0.3990 - accuracy: 0.8115\n",
            "Epoch 30/200\n",
            "177/177 [==============================] - 0s 2ms/step - loss: 0.3974 - accuracy: 0.8151\n",
            "Epoch 31/200\n",
            "177/177 [==============================] - 0s 2ms/step - loss: 0.3966 - accuracy: 0.8179\n",
            "Epoch 32/200\n",
            "177/177 [==============================] - 0s 2ms/step - loss: 0.3978 - accuracy: 0.8147\n",
            "Epoch 33/200\n",
            "177/177 [==============================] - 0s 2ms/step - loss: 0.3972 - accuracy: 0.8106\n",
            "Epoch 34/200\n",
            "177/177 [==============================] - 0s 2ms/step - loss: 0.3981 - accuracy: 0.8151\n",
            "Epoch 35/200\n",
            "177/177 [==============================] - 0s 2ms/step - loss: 0.3979 - accuracy: 0.8172\n",
            "Epoch 36/200\n",
            "177/177 [==============================] - 0s 2ms/step - loss: 0.3969 - accuracy: 0.8170\n",
            "Epoch 37/200\n",
            "177/177 [==============================] - 0s 2ms/step - loss: 0.3985 - accuracy: 0.8156\n",
            "Epoch 38/200\n",
            "177/177 [==============================] - 0s 2ms/step - loss: 0.3973 - accuracy: 0.8163\n",
            "Epoch 39/200\n",
            "177/177 [==============================] - 0s 2ms/step - loss: 0.3984 - accuracy: 0.8177\n",
            "Epoch 40/200\n",
            "177/177 [==============================] - 1s 4ms/step - loss: 0.3991 - accuracy: 0.8170\n",
            "Epoch 41/200\n",
            "177/177 [==============================] - 1s 4ms/step - loss: 0.3961 - accuracy: 0.8156\n",
            "Epoch 42/200\n",
            "177/177 [==============================] - 1s 3ms/step - loss: 0.3985 - accuracy: 0.8154\n",
            "Epoch 43/200\n",
            "177/177 [==============================] - 0s 3ms/step - loss: 0.3996 - accuracy: 0.8160\n",
            "Epoch 44/200\n",
            "177/177 [==============================] - 0s 2ms/step - loss: 0.3978 - accuracy: 0.8135\n",
            "Epoch 45/200\n",
            "177/177 [==============================] - 0s 2ms/step - loss: 0.3956 - accuracy: 0.8174\n",
            "Epoch 46/200\n",
            "177/177 [==============================] - 0s 2ms/step - loss: 0.3982 - accuracy: 0.8128\n",
            "Epoch 47/200\n",
            "177/177 [==============================] - 0s 2ms/step - loss: 0.3962 - accuracy: 0.8183\n",
            "Epoch 48/200\n",
            "177/177 [==============================] - 0s 2ms/step - loss: 0.3967 - accuracy: 0.8154\n",
            "Epoch 49/200\n",
            "177/177 [==============================] - 0s 2ms/step - loss: 0.3966 - accuracy: 0.8146\n",
            "Epoch 50/200\n",
            "177/177 [==============================] - 0s 2ms/step - loss: 0.3962 - accuracy: 0.8158\n",
            "Epoch 51/200\n",
            "177/177 [==============================] - 0s 2ms/step - loss: 0.3969 - accuracy: 0.8146\n",
            "Epoch 52/200\n",
            "177/177 [==============================] - 0s 2ms/step - loss: 0.3958 - accuracy: 0.8209\n",
            "Epoch 53/200\n",
            "177/177 [==============================] - 0s 2ms/step - loss: 0.3956 - accuracy: 0.8190\n",
            "Epoch 54/200\n",
            "177/177 [==============================] - 0s 2ms/step - loss: 0.3974 - accuracy: 0.8170\n",
            "Epoch 55/200\n",
            "177/177 [==============================] - 0s 2ms/step - loss: 0.3976 - accuracy: 0.8146\n",
            "Epoch 56/200\n",
            "177/177 [==============================] - 0s 2ms/step - loss: 0.3979 - accuracy: 0.8165\n",
            "Epoch 57/200\n",
            "177/177 [==============================] - 0s 2ms/step - loss: 0.3977 - accuracy: 0.8165\n",
            "Epoch 58/200\n",
            "177/177 [==============================] - 0s 2ms/step - loss: 0.3979 - accuracy: 0.8167\n",
            "Epoch 59/200\n",
            "177/177 [==============================] - 0s 2ms/step - loss: 0.3975 - accuracy: 0.8165\n",
            "Epoch 60/200\n",
            "177/177 [==============================] - 0s 2ms/step - loss: 0.3965 - accuracy: 0.8160\n",
            "Epoch 61/200\n",
            "177/177 [==============================] - 0s 2ms/step - loss: 0.3968 - accuracy: 0.8161\n",
            "Epoch 62/200\n",
            "177/177 [==============================] - 0s 2ms/step - loss: 0.3966 - accuracy: 0.8169\n",
            "Epoch 63/200\n",
            "177/177 [==============================] - 0s 2ms/step - loss: 0.3955 - accuracy: 0.8179\n",
            "Epoch 64/200\n",
            "177/177 [==============================] - 0s 2ms/step - loss: 0.3948 - accuracy: 0.8199\n",
            "Epoch 65/200\n",
            "177/177 [==============================] - 0s 2ms/step - loss: 0.3953 - accuracy: 0.8206\n",
            "Epoch 66/200\n",
            "177/177 [==============================] - 0s 2ms/step - loss: 0.3964 - accuracy: 0.8146\n",
            "Epoch 67/200\n",
            "177/177 [==============================] - 0s 2ms/step - loss: 0.3957 - accuracy: 0.8156\n",
            "Epoch 68/200\n",
            "177/177 [==============================] - 0s 2ms/step - loss: 0.3961 - accuracy: 0.8190\n",
            "Epoch 69/200\n",
            "177/177 [==============================] - 0s 2ms/step - loss: 0.3959 - accuracy: 0.8161\n",
            "Epoch 70/200\n",
            "177/177 [==============================] - 0s 2ms/step - loss: 0.3953 - accuracy: 0.8160\n",
            "Epoch 71/200\n",
            "177/177 [==============================] - 0s 2ms/step - loss: 0.3956 - accuracy: 0.8174\n",
            "Epoch 72/200\n",
            "177/177 [==============================] - 0s 2ms/step - loss: 0.3973 - accuracy: 0.8154\n",
            "Epoch 73/200\n",
            "177/177 [==============================] - 0s 2ms/step - loss: 0.3940 - accuracy: 0.8179\n",
            "Epoch 74/200\n",
            "177/177 [==============================] - 0s 3ms/step - loss: 0.3995 - accuracy: 0.8149\n",
            "Epoch 75/200\n",
            "177/177 [==============================] - 1s 3ms/step - loss: 0.3938 - accuracy: 0.8165\n",
            "Epoch 76/200\n",
            "177/177 [==============================] - 1s 3ms/step - loss: 0.3958 - accuracy: 0.8179\n",
            "Epoch 77/200\n",
            "177/177 [==============================] - 1s 3ms/step - loss: 0.4010 - accuracy: 0.8172\n",
            "Epoch 78/200\n",
            "177/177 [==============================] - 1s 3ms/step - loss: 0.3949 - accuracy: 0.8174\n",
            "Epoch 79/200\n",
            "177/177 [==============================] - 1s 3ms/step - loss: 0.3958 - accuracy: 0.8176\n",
            "Epoch 80/200\n",
            "177/177 [==============================] - 0s 2ms/step - loss: 0.3943 - accuracy: 0.8195\n",
            "Epoch 81/200\n",
            "177/177 [==============================] - 0s 2ms/step - loss: 0.3943 - accuracy: 0.8199\n",
            "Epoch 82/200\n",
            "177/177 [==============================] - 0s 2ms/step - loss: 0.3942 - accuracy: 0.8188\n",
            "Epoch 83/200\n",
            "177/177 [==============================] - 0s 2ms/step - loss: 0.3952 - accuracy: 0.8209\n",
            "Epoch 84/200\n",
            "177/177 [==============================] - 0s 2ms/step - loss: 0.3946 - accuracy: 0.8165\n",
            "Epoch 85/200\n",
            "177/177 [==============================] - 0s 2ms/step - loss: 0.3946 - accuracy: 0.8185\n",
            "Epoch 86/200\n",
            "177/177 [==============================] - 0s 2ms/step - loss: 0.3953 - accuracy: 0.8167\n",
            "Epoch 87/200\n",
            "177/177 [==============================] - 0s 2ms/step - loss: 0.3945 - accuracy: 0.8188\n",
            "Epoch 88/200\n",
            "177/177 [==============================] - 0s 2ms/step - loss: 0.3936 - accuracy: 0.8172\n",
            "Epoch 89/200\n",
            "177/177 [==============================] - 0s 2ms/step - loss: 0.3927 - accuracy: 0.8202\n",
            "Epoch 90/200\n",
            "177/177 [==============================] - 0s 2ms/step - loss: 0.3946 - accuracy: 0.8217\n",
            "Epoch 91/200\n",
            "177/177 [==============================] - 0s 2ms/step - loss: 0.3933 - accuracy: 0.8188\n",
            "Epoch 92/200\n",
            "177/177 [==============================] - 0s 2ms/step - loss: 0.3945 - accuracy: 0.8177\n",
            "Epoch 93/200\n",
            "177/177 [==============================] - 0s 2ms/step - loss: 0.3940 - accuracy: 0.8169\n",
            "Epoch 94/200\n",
            "177/177 [==============================] - 0s 2ms/step - loss: 0.3931 - accuracy: 0.8167\n",
            "Epoch 95/200\n",
            "177/177 [==============================] - 0s 2ms/step - loss: 0.3939 - accuracy: 0.8169\n",
            "Epoch 96/200\n",
            "177/177 [==============================] - 0s 2ms/step - loss: 0.3930 - accuracy: 0.8193\n",
            "Epoch 97/200\n",
            "177/177 [==============================] - 0s 2ms/step - loss: 0.3944 - accuracy: 0.8176\n",
            "Epoch 98/200\n",
            "177/177 [==============================] - 0s 2ms/step - loss: 0.3950 - accuracy: 0.8177\n",
            "Epoch 99/200\n",
            "177/177 [==============================] - 0s 2ms/step - loss: 0.3947 - accuracy: 0.8199\n",
            "Epoch 100/200\n",
            "177/177 [==============================] - 0s 2ms/step - loss: 0.3942 - accuracy: 0.8174\n",
            "Epoch 101/200\n",
            "177/177 [==============================] - 0s 2ms/step - loss: 0.3935 - accuracy: 0.8161\n",
            "Epoch 102/200\n",
            "177/177 [==============================] - 0s 2ms/step - loss: 0.3944 - accuracy: 0.8170\n",
            "Epoch 103/200\n",
            "177/177 [==============================] - 0s 2ms/step - loss: 0.3918 - accuracy: 0.8201\n",
            "Epoch 104/200\n",
            "177/177 [==============================] - 0s 2ms/step - loss: 0.3919 - accuracy: 0.8211\n",
            "Epoch 105/200\n",
            "177/177 [==============================] - 0s 2ms/step - loss: 0.3936 - accuracy: 0.8206\n",
            "Epoch 106/200\n",
            "177/177 [==============================] - 0s 2ms/step - loss: 0.3936 - accuracy: 0.8193\n",
            "Epoch 107/200\n",
            "177/177 [==============================] - 0s 2ms/step - loss: 0.3937 - accuracy: 0.8186\n",
            "Epoch 108/200\n",
            "177/177 [==============================] - 0s 2ms/step - loss: 0.3931 - accuracy: 0.8206\n",
            "Epoch 109/200\n",
            "177/177 [==============================] - 0s 2ms/step - loss: 0.3923 - accuracy: 0.8217\n",
            "Epoch 110/200\n",
            "177/177 [==============================] - 0s 3ms/step - loss: 0.3933 - accuracy: 0.8179\n",
            "Epoch 111/200\n",
            "177/177 [==============================] - 0s 3ms/step - loss: 0.3920 - accuracy: 0.8167\n",
            "Epoch 112/200\n",
            "177/177 [==============================] - 0s 3ms/step - loss: 0.3919 - accuracy: 0.8190\n",
            "Epoch 113/200\n",
            "177/177 [==============================] - 0s 3ms/step - loss: 0.3921 - accuracy: 0.8209\n",
            "Epoch 114/200\n",
            "177/177 [==============================] - 0s 3ms/step - loss: 0.3916 - accuracy: 0.8170\n",
            "Epoch 115/200\n",
            "177/177 [==============================] - 0s 2ms/step - loss: 0.3925 - accuracy: 0.8224\n",
            "Epoch 116/200\n",
            "177/177 [==============================] - 0s 2ms/step - loss: 0.3907 - accuracy: 0.8224\n",
            "Epoch 117/200\n",
            "177/177 [==============================] - 0s 2ms/step - loss: 0.3929 - accuracy: 0.8213\n",
            "Epoch 118/200\n",
            "177/177 [==============================] - 0s 2ms/step - loss: 0.3918 - accuracy: 0.8177\n",
            "Epoch 119/200\n",
            "177/177 [==============================] - 0s 2ms/step - loss: 0.3917 - accuracy: 0.8197\n",
            "Epoch 120/200\n",
            "177/177 [==============================] - 0s 2ms/step - loss: 0.3907 - accuracy: 0.8170\n",
            "Epoch 121/200\n",
            "177/177 [==============================] - 0s 2ms/step - loss: 0.3911 - accuracy: 0.8179\n",
            "Epoch 122/200\n",
            "177/177 [==============================] - 0s 2ms/step - loss: 0.3912 - accuracy: 0.8185\n",
            "Epoch 123/200\n",
            "177/177 [==============================] - 0s 2ms/step - loss: 0.3915 - accuracy: 0.8192\n",
            "Epoch 124/200\n",
            "177/177 [==============================] - 0s 2ms/step - loss: 0.3917 - accuracy: 0.8206\n",
            "Epoch 125/200\n",
            "177/177 [==============================] - 0s 2ms/step - loss: 0.3934 - accuracy: 0.8197\n",
            "Epoch 126/200\n",
            "177/177 [==============================] - 0s 2ms/step - loss: 0.3923 - accuracy: 0.8209\n",
            "Epoch 127/200\n",
            "177/177 [==============================] - 0s 2ms/step - loss: 0.3915 - accuracy: 0.8181\n",
            "Epoch 128/200\n",
            "177/177 [==============================] - 0s 2ms/step - loss: 0.3916 - accuracy: 0.8225\n",
            "Epoch 129/200\n",
            "177/177 [==============================] - 0s 2ms/step - loss: 0.3911 - accuracy: 0.8197\n",
            "Epoch 130/200\n",
            "177/177 [==============================] - 0s 2ms/step - loss: 0.3904 - accuracy: 0.8186\n",
            "Epoch 131/200\n",
            "177/177 [==============================] - 0s 2ms/step - loss: 0.3902 - accuracy: 0.8227\n",
            "Epoch 132/200\n",
            "177/177 [==============================] - 0s 2ms/step - loss: 0.3918 - accuracy: 0.8211\n",
            "Epoch 133/200\n",
            "177/177 [==============================] - 0s 2ms/step - loss: 0.3955 - accuracy: 0.8227\n",
            "Epoch 134/200\n",
            "177/177 [==============================] - 0s 2ms/step - loss: 0.3905 - accuracy: 0.8199\n",
            "Epoch 135/200\n",
            "177/177 [==============================] - 0s 2ms/step - loss: 0.3896 - accuracy: 0.8193\n",
            "Epoch 136/200\n",
            "177/177 [==============================] - 0s 2ms/step - loss: 0.3916 - accuracy: 0.8206\n",
            "Epoch 137/200\n",
            "177/177 [==============================] - 0s 2ms/step - loss: 0.3914 - accuracy: 0.8243\n",
            "Epoch 138/200\n",
            "177/177 [==============================] - 0s 2ms/step - loss: 0.3979 - accuracy: 0.8190\n",
            "Epoch 139/200\n",
            "177/177 [==============================] - 0s 2ms/step - loss: 0.3946 - accuracy: 0.8204\n",
            "Epoch 140/200\n",
            "177/177 [==============================] - 0s 2ms/step - loss: 0.3896 - accuracy: 0.8197\n",
            "Epoch 141/200\n",
            "177/177 [==============================] - 0s 2ms/step - loss: 0.3894 - accuracy: 0.8217\n",
            "Epoch 142/200\n",
            "177/177 [==============================] - 0s 2ms/step - loss: 0.3904 - accuracy: 0.8209\n",
            "Epoch 143/200\n",
            "177/177 [==============================] - 0s 2ms/step - loss: 0.3898 - accuracy: 0.8229\n",
            "Epoch 144/200\n",
            "177/177 [==============================] - 0s 2ms/step - loss: 0.3914 - accuracy: 0.8224\n",
            "Epoch 145/200\n",
            "177/177 [==============================] - 0s 3ms/step - loss: 0.3902 - accuracy: 0.8213\n",
            "Epoch 146/200\n",
            "177/177 [==============================] - 0s 3ms/step - loss: 0.3886 - accuracy: 0.8199\n",
            "Epoch 147/200\n",
            "177/177 [==============================] - 0s 3ms/step - loss: 0.3903 - accuracy: 0.8213\n",
            "Epoch 148/200\n",
            "177/177 [==============================] - 0s 3ms/step - loss: 0.3908 - accuracy: 0.8202\n",
            "Epoch 149/200\n",
            "177/177 [==============================] - 0s 3ms/step - loss: 0.3911 - accuracy: 0.8220\n",
            "Epoch 150/200\n",
            "177/177 [==============================] - 0s 2ms/step - loss: 0.3885 - accuracy: 0.8202\n",
            "Epoch 151/200\n",
            "177/177 [==============================] - 0s 2ms/step - loss: 0.3896 - accuracy: 0.8197\n",
            "Epoch 152/200\n",
            "177/177 [==============================] - 0s 2ms/step - loss: 0.3879 - accuracy: 0.8208\n",
            "Epoch 153/200\n",
            "177/177 [==============================] - 0s 2ms/step - loss: 0.3901 - accuracy: 0.8202\n",
            "Epoch 154/200\n",
            "177/177 [==============================] - 0s 2ms/step - loss: 0.3901 - accuracy: 0.8208\n",
            "Epoch 155/200\n",
            "177/177 [==============================] - 0s 2ms/step - loss: 0.3909 - accuracy: 0.8211\n",
            "Epoch 156/200\n",
            "177/177 [==============================] - 0s 2ms/step - loss: 0.3889 - accuracy: 0.8206\n",
            "Epoch 157/200\n",
            "177/177 [==============================] - 0s 2ms/step - loss: 0.3891 - accuracy: 0.8240\n",
            "Epoch 158/200\n",
            "177/177 [==============================] - 0s 2ms/step - loss: 0.3893 - accuracy: 0.8217\n",
            "Epoch 159/200\n",
            "177/177 [==============================] - 0s 2ms/step - loss: 0.3884 - accuracy: 0.8217\n",
            "Epoch 160/200\n",
            "177/177 [==============================] - 0s 2ms/step - loss: 0.3893 - accuracy: 0.8199\n",
            "Epoch 161/200\n",
            "177/177 [==============================] - 0s 2ms/step - loss: 0.3925 - accuracy: 0.8186\n",
            "Epoch 162/200\n",
            "177/177 [==============================] - 0s 2ms/step - loss: 0.3896 - accuracy: 0.8211\n",
            "Epoch 163/200\n",
            "177/177 [==============================] - 0s 2ms/step - loss: 0.3971 - accuracy: 0.8195\n",
            "Epoch 164/200\n",
            "177/177 [==============================] - 0s 2ms/step - loss: 0.3892 - accuracy: 0.8243\n",
            "Epoch 165/200\n",
            "177/177 [==============================] - 0s 2ms/step - loss: 0.3888 - accuracy: 0.8204\n",
            "Epoch 166/200\n",
            "177/177 [==============================] - 0s 2ms/step - loss: 0.3897 - accuracy: 0.8232\n",
            "Epoch 167/200\n",
            "177/177 [==============================] - 0s 2ms/step - loss: 0.3880 - accuracy: 0.8202\n",
            "Epoch 168/200\n",
            "177/177 [==============================] - 0s 2ms/step - loss: 0.3885 - accuracy: 0.8229\n",
            "Epoch 169/200\n",
            "177/177 [==============================] - 0s 2ms/step - loss: 0.3887 - accuracy: 0.8215\n",
            "Epoch 170/200\n",
            "177/177 [==============================] - 0s 2ms/step - loss: 0.3882 - accuracy: 0.8176\n",
            "Epoch 171/200\n",
            "177/177 [==============================] - 0s 2ms/step - loss: 0.3881 - accuracy: 0.8229\n",
            "Epoch 172/200\n",
            "177/177 [==============================] - 0s 2ms/step - loss: 0.3873 - accuracy: 0.8225\n",
            "Epoch 173/200\n",
            "177/177 [==============================] - 0s 2ms/step - loss: 0.3868 - accuracy: 0.8217\n",
            "Epoch 174/200\n",
            "177/177 [==============================] - 0s 2ms/step - loss: 0.3883 - accuracy: 0.8257\n",
            "Epoch 175/200\n",
            "177/177 [==============================] - 0s 2ms/step - loss: 0.3858 - accuracy: 0.8261\n",
            "Epoch 176/200\n",
            "177/177 [==============================] - 0s 2ms/step - loss: 0.3882 - accuracy: 0.8211\n",
            "Epoch 177/200\n",
            "177/177 [==============================] - 0s 2ms/step - loss: 0.3874 - accuracy: 0.8256\n",
            "Epoch 178/200\n",
            "177/177 [==============================] - 0s 2ms/step - loss: 0.3867 - accuracy: 0.8195\n",
            "Epoch 179/200\n",
            "177/177 [==============================] - 0s 2ms/step - loss: 0.3865 - accuracy: 0.8231\n",
            "Epoch 180/200\n",
            "177/177 [==============================] - 0s 2ms/step - loss: 0.3856 - accuracy: 0.8225\n",
            "Epoch 181/200\n",
            "177/177 [==============================] - 0s 3ms/step - loss: 0.3854 - accuracy: 0.8215\n",
            "Epoch 182/200\n",
            "177/177 [==============================] - 0s 3ms/step - loss: 0.3871 - accuracy: 0.8248\n",
            "Epoch 183/200\n",
            "177/177 [==============================] - 0s 3ms/step - loss: 0.3876 - accuracy: 0.8224\n",
            "Epoch 184/200\n",
            "177/177 [==============================] - 0s 3ms/step - loss: 0.3874 - accuracy: 0.8211\n",
            "Epoch 185/200\n",
            "177/177 [==============================] - 0s 3ms/step - loss: 0.3879 - accuracy: 0.8215\n",
            "Epoch 186/200\n",
            "177/177 [==============================] - 0s 2ms/step - loss: 0.3873 - accuracy: 0.8181\n",
            "Epoch 187/200\n",
            "177/177 [==============================] - 0s 2ms/step - loss: 0.3871 - accuracy: 0.8225\n",
            "Epoch 188/200\n",
            "177/177 [==============================] - 0s 2ms/step - loss: 0.3881 - accuracy: 0.8240\n",
            "Epoch 189/200\n",
            "177/177 [==============================] - 0s 2ms/step - loss: 0.3850 - accuracy: 0.8234\n",
            "Epoch 190/200\n",
            "177/177 [==============================] - 0s 2ms/step - loss: 0.3870 - accuracy: 0.8215\n",
            "Epoch 191/200\n",
            "177/177 [==============================] - 0s 2ms/step - loss: 0.3870 - accuracy: 0.8231\n",
            "Epoch 192/200\n",
            "177/177 [==============================] - 0s 2ms/step - loss: 0.3857 - accuracy: 0.8238\n",
            "Epoch 193/200\n",
            "177/177 [==============================] - 0s 2ms/step - loss: 0.3867 - accuracy: 0.8208\n",
            "Epoch 194/200\n",
            "177/177 [==============================] - 0s 2ms/step - loss: 0.3868 - accuracy: 0.8266\n",
            "Epoch 195/200\n",
            "177/177 [==============================] - 0s 2ms/step - loss: 0.3857 - accuracy: 0.8222\n",
            "Epoch 196/200\n",
            "177/177 [==============================] - 0s 2ms/step - loss: 0.3874 - accuracy: 0.8245\n",
            "Epoch 197/200\n",
            "177/177 [==============================] - 0s 2ms/step - loss: 0.3845 - accuracy: 0.8243\n",
            "Epoch 198/200\n",
            "177/177 [==============================] - 0s 2ms/step - loss: 0.3855 - accuracy: 0.8231\n",
            "Epoch 199/200\n",
            "177/177 [==============================] - 0s 2ms/step - loss: 0.3864 - accuracy: 0.8229\n",
            "Epoch 200/200\n",
            "177/177 [==============================] - 0s 2ms/step - loss: 0.3944 - accuracy: 0.8201\n"
          ]
        },
        {
          "output_type": "execute_result",
          "data": {
            "text/plain": [
              "<keras.src.callbacks.History at 0x7ef2325de4d0>"
            ]
          },
          "metadata": {},
          "execution_count": 23
        }
      ]
    },
    {
      "cell_type": "code",
      "source": [
        "y_hat = model.predict(X_test)\n",
        "y_hat = [0 if val < 0.5 else 1 for val in y_hat]"
      ],
      "metadata": {
        "id": "wk0L81hmULcR"
      },
      "execution_count": null,
      "outputs": []
    },
    {
      "cell_type": "code",
      "source": [
        "y_hat"
      ],
      "metadata": {
        "id": "lHcUMF7gUV03"
      },
      "execution_count": null,
      "outputs": []
    },
    {
      "cell_type": "code",
      "source": [
        "accuracy_score(y_test, y_hat)"
      ],
      "metadata": {
        "id": "n18K1cafUcMW"
      },
      "execution_count": null,
      "outputs": []
    },
    {
      "cell_type": "code",
      "source": [
        "model.save('tfmodel')"
      ],
      "metadata": {
        "id": "uugBW8BmUkLe"
      },
      "execution_count": null,
      "outputs": []
    },
    {
      "cell_type": "code",
      "source": [
        "del model"
      ],
      "metadata": {
        "id": "3Z94No4VUzsY"
      },
      "execution_count": null,
      "outputs": []
    },
    {
      "cell_type": "code",
      "source": [
        "model = load_model('tfmodel')"
      ],
      "metadata": {
        "id": "T0vBvm-jU6-W"
      },
      "execution_count": null,
      "outputs": []
    }
  ]
}